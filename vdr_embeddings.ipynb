{
  "cells": [
    {
      "cell_type": "markdown",
      "metadata": {
        "id": "YIVBTkiDAlfy"
      },
      "source": [
        "### Tutorial\n",
        "\n",
        "We will use [**LlamaIndex**](https://huggingface.co/llamaindex/vdr-2b-multi-v1/tree/main) for generating multimodal embeddings and [**Qdrant**](http://qdrant.tech) for storing and retrieving them."
      ]
    },
    {
      "cell_type": "code",
      "execution_count": null,
      "metadata": {
        "colab": {
          "base_uri": "https://localhost:8080/"
        },
        "id": "TrkMVQD0H6Qu",
        "outputId": "f264747c-51bd-4d78-d34b-0a7596c79189"
      },
      "outputs": [],
      "source": [
        "%pip install llama-index-embeddings-huggingface qdrant-client datasets Pillow tqdm"
      ]
    },
    {
      "cell_type": "code",
      "execution_count": null,
      "metadata": {
        "id": "Jn6xx48IJf7D"
      },
      "outputs": [],
      "source": [
        "from qdrant_client import QdrantClient, models\n",
        "from llama_index.embeddings.huggingface import HuggingFaceEmbedding\n",
        "from datasets import load_dataset\n",
        "from PIL import Image\n",
        "import os\n",
        "import json\n",
        "from tqdm.notebook import tqdm\n",
        "\n",
        "DATASET_NAME = \"sujet-ai/Sujet-Finance-QA-Vision-100k\"\n",
        "SPLIT_NAME = \"train\"\n",
        "NUM_IMAGES = 2000\n",
        "TEMP_IMAGE_DIR = \"temp_images\"\n",
        "\n",
        "if not os.path.exists(TEMP_IMAGE_DIR):\n",
        "    os.makedirs(TEMP_IMAGE_DIR)\n",
        "\n",
        "print(f\"Loading dataset {DATASET_NAME}...\")\n",
        "try:\n",
        "    dataset = load_dataset(DATASET_NAME, split=SPLIT_NAME)\n",
        "    dataset = dataset.select(range(NUM_IMAGES))\n",
        "except Exception as e:\n",
        "    print(f\"Error loading dataset: {e}\")\n",
        "    print(\"Attempting to stream...\")\n",
        "    dataset = load_dataset(DATASET_NAME, split=SPLIT_NAME, streaming=True)\n",
        "    dataset = dataset.take(NUM_IMAGES)\n",
        "\n",
        "\n",
        "print(f\"Processing {NUM_IMAGES} items...\")\n",
        "image_paths = []\n",
        "contents = []\n",
        "metadata_list = []\n",
        "\n",
        "for i, item in enumerate(tqdm(dataset, total=NUM_IMAGES)):\n",
        "    try:\n",
        "        doc_id = item.get(\"doc_id\", f\"item_{i}\")\n",
        "        content = item.get(\"content\", \"\")\n",
        "        qa_pairs = item.get(\"qa_pairs\", [])\n",
        "        image = item.get(\"image\")\n",
        "\n",
        "        if image is None or not hasattr(image, \"save\"):\n",
        "            print(f\"Warning: Skipping item {i} due to missing or invalid image.\")\n",
        "            continue\n",
        "\n",
        "        # Define image path\n",
        "        image_filename = f\"{doc_id.replace('/', '_')}_{i}.png\"\n",
        "        image_path = os.path.join(TEMP_IMAGE_DIR, image_filename)\n",
        "\n",
        "        # Save image locally\n",
        "        image.save(image_path)\n",
        "\n",
        "        # Append data to lists\n",
        "        image_paths.append(image_path)\n",
        "        contents.append(content)\n",
        "        metadata_list.append(\n",
        "            {\n",
        "                \"doc_id\": doc_id,\n",
        "                \"qa_pairs\": json.dumps(\n",
        "                    qa_pairs\n",
        "                ),\n",
        "            }\n",
        "        )\n",
        "\n",
        "    except Exception as e:\n",
        "        print(f\"Error processing item {i} (doc_id: {item.get('doc_id', 'N/A')}): {e}\")\n",
        "        continue\n",
        "\n",
        "\n",
        "print(f\"Successfully processed {len(image_paths)} items.\")"
      ]
    },
    {
      "cell_type": "code",
      "execution_count": null,
      "metadata": {},
      "outputs": [],
      "source": [
        "client = QdrantClient(\n",
        "    host=\"\",\n",
        "    api_key=\"\",\n",
        ")"
      ]
    },
    {
      "cell_type": "markdown",
      "metadata": {
        "id": "vfkXbWRhBbPT"
      },
      "source": [
        "Let's embed a very short selection of images and their captions in the **shared embedding space**."
      ]
    },
    {
      "cell_type": "code",
      "execution_count": null,
      "metadata": {
        "colab": {
          "base_uri": "https://localhost:8080/",
          "height": 205,
          "referenced_widgets": [
            "a614636be04d4063a7b1a402b56c83e3",
            "5d04e84cb0a346dd98e8028ebcf95c6e",
            "161c7935d4854077ad9292e9e2ec1279",
            "4b9696ef699c46a4aefce756ba64d61b",
            "c9dd792f85204a2d9397c9fa6895c12e",
            "411a90b1abbe41248218fa4e24058f69",
            "0c058c78e1e44c60be3ef50f1ad70712",
            "1e862c55ee124adcb5c5268a56c5e37e",
            "accc4b7b05d64a66b7b8fe7652b79f21",
            "1f4694a6cbbb4f2ca1e3ffa3afdcbc17",
            "54ace692885a46b0a4e0c8e081417229",
            "5995173ff9a247b9a8d68f92d5205f19",
            "da0dfb1fb80b4c90872ebfa452729cb5",
            "87850e2da76c4af58949c96c034dde2d",
            "f83c630b5ddf4ab7ad0d5c0f63706c9f",
            "0c1793a3fd924225a503ec1ed8e36d36",
            "7efc69c1a4214c0bbe399a6fd79cac61",
            "9c957c2bf0724d6fab30d733c2cf17e0",
            "56813987a9ff4f5397d75b027a6693ed",
            "7e3dd20df5cf47b2b578aac295790ce0",
            "4421a17644bc4e6baa6e0a1c246aa2cf",
            "4c925e41e49b4bd6b6762dc81059f7a9"
          ]
        },
        "id": "7ZZYV2aqKD5b",
        "outputId": "69c4530a-cbef-456a-92e3-2feda3a61f72"
      },
      "outputs": [],
      "source": [
        "model = HuggingFaceEmbedding(\n",
        "    model_name=\"llamaindex/vdr-2b-multi-v1\",\n",
        "    device=\"cuda\",\n",
        "    trust_remote_code=True,\n",
        ")"
      ]
    },
    {
      "cell_type": "code",
      "execution_count": null,
      "metadata": {},
      "outputs": [],
      "source": [
        "BATCH_SIZE = 32  # Adjust this based on your VRAM capacity\n",
        "\n",
        "print(\"Generating text embeddings...\")\n",
        "text_embeddings = []\n",
        "if contents:\n",
        "    for i in tqdm(range(0, len(contents), BATCH_SIZE), desc=\"Text Embedding Batches\"):\n",
        "        batch_contents = contents[i:i + BATCH_SIZE]\n",
        "        batch_embeddings = model.get_text_embedding_batch(batch_contents, show_progress=False) # Disable inner progress bar\n",
        "        text_embeddings.extend(batch_embeddings)\n",
        "else:\n",
        "    print(\"Warning: No content found to embed.\")\n",
        "\n",
        "\n",
        "print(\"Generating image embeddings...\")\n",
        "image_embeddings = []\n",
        "if image_paths:\n",
        "    for i in tqdm(range(0, len(image_paths), BATCH_SIZE), desc=\"Image Embedding Batches\"):\n",
        "        batch_image_paths = image_paths[i:i + BATCH_SIZE]\n",
        "        batch_embeddings = model.get_image_embedding_batch(batch_image_paths, show_progress=False) # Disable inner progress bar\n",
        "        image_embeddings.extend(batch_embeddings)\n",
        "else:\n",
        "    print(\"Warning: No images found to embed.\")\n",
        "\n",
        "if not text_embeddings or not image_embeddings:\n",
        "    print(\"Error: Embedding generation failed. Cannot proceed.\")\n",
        "elif len(text_embeddings) != len(image_embeddings):\n",
        "    print(\n",
        "        f\"Error: Mismatch in number of text ({len(text_embeddings)}) and image ({len(image_embeddings)}) embeddings.\"\n",
        "    )\n",
        "else:\n",
        "    print(\"Embeddings generated successfully.\")"
      ]
    },
    {
      "cell_type": "markdown",
      "metadata": {
        "id": "yEn3HWTiYl_u"
      },
      "source": [
        "Create a **Collection**"
      ]
    },
    {
      "cell_type": "code",
      "execution_count": null,
      "metadata": {
        "id": "98oNUlicaiXK"
      },
      "outputs": [],
      "source": [
        "COLLECTION_NAME = \"sujet-finance-multi\" \n",
        "\n",
        "if image_embeddings and text_embeddings:\n",
        "    if not client.collection_exists(COLLECTION_NAME):\n",
        "        print(f\"Creating collection: {COLLECTION_NAME}\")\n",
        "        client.create_collection(\n",
        "            collection_name=COLLECTION_NAME,\n",
        "            vectors_config={\n",
        "                \"image\": models.VectorParams(\n",
        "                    size=len(image_embeddings[0]), # Get size dynamically\n",
        "                    distance=models.Distance.COSINE\n",
        "                ),\n",
        "                \"text\": models.VectorParams(\n",
        "                    size=len(text_embeddings[0]), # Get size dynamically\n",
        "                    distance=models.Distance.COSINE\n",
        "                ),\n",
        "            }\n",
        "        )\n",
        "    else:\n",
        "        print(f\"Collection {COLLECTION_NAME} already exists.\")\n",
        "else:\n",
        "    print(\"Skipping collection creation due to embedding errors.\")"
      ]
    },
    {
      "cell_type": "markdown",
      "metadata": {
        "id": "4vwr7UbRFV5M"
      },
      "source": [
        "Now let's upload our images with captions to the **Collection**. Each image with its caption will create a [Point](https://qdrant.tech/documentation/concepts/points/) in Qdrant."
      ]
    },
    {
      "cell_type": "code",
      "execution_count": null,
      "metadata": {
        "id": "mpqu-qzbP8Eh"
      },
      "outputs": [],
      "source": [
        "if text_embeddings and image_embeddings and len(text_embeddings) == len(metadata_list):\n",
        "    print(f\"Uploading {len(metadata_list)} points to collection {COLLECTION_NAME}...\")\n",
        "    client.upload_points(\n",
        "        collection_name=COLLECTION_NAME,\n",
        "        points=[\n",
        "            models.PointStruct(\n",
        "                id=idx,\n",
        "                vector={\n",
        "                    \"text\": text_embeddings[idx],\n",
        "                    \"image\": image_embeddings[idx],\n",
        "                },\n",
        "                payload={\n",
        "                    \"doc_id\": metadata_list[idx][\"doc_id\"],\n",
        "                    \"content\": contents[idx],\n",
        "                    \"qa_pairs_json\": metadata_list[idx][\"qa_pairs\"],\n",
        "                    \"image_path\": image_paths[idx],\n",
        "                },\n",
        "            )\n",
        "            for idx in range(len(metadata_list))\n",
        "        ],\n",
        "        wait=True,\n",
        "    )\n",
        "    print(\"Upload complete.\")\n",
        "else:\n",
        "    print(\"Skipping point upload due to inconsistencies in generated data.\")"
      ]
    },
    {
      "cell_type": "code",
      "execution_count": null,
      "metadata": {},
      "outputs": [],
      "source": [
        "import shutil\n",
        "\n",
        "print(f\"Removing temporary image directory: {TEMP_IMAGE_DIR}\")\n",
        "if os.path.exists(TEMP_IMAGE_DIR):\n",
        "    try:\n",
        "        shutil.rmtree(TEMP_IMAGE_DIR)\n",
        "        print(\"Temporary directory removed.\")\n",
        "    except OSError as e:\n",
        "        print(f\"Error removing temporary directory {TEMP_IMAGE_DIR}: {e}\")\n",
        "\n",
        "print(f\"\\nStored metadata for {len(metadata_list)} items.\")\n",
        "if metadata_list:\n",
        "    print(\"Example metadata (first item):\")\n",
        "    print(f\"  doc_id: {metadata_list[0]['doc_id']}\")\n",
        "    # first_qa_pairs = json.loads(metadata_list[0][\"qa_pairs\"])\n",
        "    # print(f\"  qa_pairs: {first_qa_pairs}\")\n",
        "    print(f\"  qa_pairs (JSON string): {metadata_list[0]['qa_pairs'][:100]}...\")"
      ]
    },
    {
      "cell_type": "markdown",
      "metadata": {
        "id": "pAkj-XFVGm9N"
      },
      "source": [
        "Let'see what image we will get to the query \"*Adventures on snow hills*\""
      ]
    },
    {
      "cell_type": "code",
      "execution_count": null,
      "metadata": {
        "colab": {
          "base_uri": "https://localhost:8080/",
          "height": 1000
        },
        "id": "DY2PvcZVnZwN",
        "outputId": "ad87d1c1-918e-4f8e-eac2-f7c0be08fb53"
      },
      "outputs": [],
      "source": [
        "from PIL import Image\n",
        "\n",
        "find_image = model.get_query_embedding(\"Adventures on snow hills\")\n",
        "\n",
        "Image.open(client.query_points(\n",
        "    collection_name=COLLECTION_NAME,\n",
        "    query=find_image,\n",
        "    using=\"image\",\n",
        "    with_payload=[\"image\"],\n",
        "    limit=1\n",
        ").points[0].payload['image'])"
      ]
    },
    {
      "cell_type": "markdown",
      "metadata": {},
      "source": [
        "Let's also run the same query in Italian and compare the results."
      ]
    },
    {
      "cell_type": "code",
      "execution_count": null,
      "metadata": {},
      "outputs": [],
      "source": [
        "Image.open(client.query_points(\n",
        "    collection_name=COLLECTION_NAME,\n",
        "    query=model.get_query_embedding(\"Avventure sulle colline innevate\"),\n",
        "    using=\"image\",\n",
        "    with_payload=[\"image\"],\n",
        "    limit=1\n",
        ").points[0].payload['image'])"
      ]
    },
    {
      "cell_type": "markdown",
      "metadata": {
        "id": "IihSWFsnHfwx"
      },
      "source": [
        "Now let's do a reverse search for the follwing image:"
      ]
    },
    {
      "cell_type": "code",
      "execution_count": null,
      "metadata": {
        "colab": {
          "base_uri": "https://localhost:8080/",
          "height": 529
        },
        "id": "2ScFbT38I2rO",
        "outputId": "bdc415ff-9ae5-4f96-e4d0-aba541e87a42"
      },
      "outputs": [],
      "source": [
        "Image.open('images/image-2.png')"
      ]
    },
    {
      "cell_type": "code",
      "execution_count": null,
      "metadata": {
        "colab": {
          "base_uri": "https://localhost:8080/",
          "height": 35
        },
        "id": "HLmPdjktJic7",
        "outputId": "7b743094-9ee0-478e-f3bc-0f59bf0606e6"
      },
      "outputs": [],
      "source": [
        "client.query_points(\n",
        "    collection_name=COLLECTION_NAME,\n",
        "    query=model.get_image_embedding(\"images/image-2.png\"),  \n",
        "    # Now we are searching only among text vectors with our image query\n",
        "    using=\"text\",\n",
        "    with_payload=[\"caption\"],\n",
        "    limit=1\n",
        ").points[0].payload['caption']"
      ]
    }
  ],
  "metadata": {
    "colab": {
      "provenance": []
    },
    "kernelspec": {
      "display_name": "ML",
      "language": "python",
      "name": "python3"
    },
    "language_info": {
      "codemirror_mode": {
        "name": "ipython",
        "version": 3
      },
      "file_extension": ".py",
      "mimetype": "text/x-python",
      "name": "python",
      "nbconvert_exporter": "python",
      "pygments_lexer": "ipython3",
      "version": "3.11.9"
    },
    "widgets": {
      "application/vnd.jupyter.widget-state+json": {
        "0c058c78e1e44c60be3ef50f1ad70712": {
          "model_module": "@jupyter-widgets/controls",
          "model_module_version": "1.5.0",
          "model_name": "DescriptionStyleModel",
          "state": {
            "_model_module": "@jupyter-widgets/controls",
            "_model_module_version": "1.5.0",
            "_model_name": "DescriptionStyleModel",
            "_view_count": null,
            "_view_module": "@jupyter-widgets/base",
            "_view_module_version": "1.2.0",
            "_view_name": "StyleView",
            "description_width": ""
          }
        },
        "0c1793a3fd924225a503ec1ed8e36d36": {
          "model_module": "@jupyter-widgets/base",
          "model_module_version": "1.2.0",
          "model_name": "LayoutModel",
          "state": {
            "_model_module": "@jupyter-widgets/base",
            "_model_module_version": "1.2.0",
            "_model_name": "LayoutModel",
            "_view_count": null,
            "_view_module": "@jupyter-widgets/base",
            "_view_module_version": "1.2.0",
            "_view_name": "LayoutView",
            "align_content": null,
            "align_items": null,
            "align_self": null,
            "border": null,
            "bottom": null,
            "display": null,
            "flex": null,
            "flex_flow": null,
            "grid_area": null,
            "grid_auto_columns": null,
            "grid_auto_flow": null,
            "grid_auto_rows": null,
            "grid_column": null,
            "grid_gap": null,
            "grid_row": null,
            "grid_template_areas": null,
            "grid_template_columns": null,
            "grid_template_rows": null,
            "height": null,
            "justify_content": null,
            "justify_items": null,
            "left": null,
            "margin": null,
            "max_height": null,
            "max_width": null,
            "min_height": null,
            "min_width": null,
            "object_fit": null,
            "object_position": null,
            "order": null,
            "overflow": null,
            "overflow_x": null,
            "overflow_y": null,
            "padding": null,
            "right": null,
            "top": null,
            "visibility": null,
            "width": null
          }
        },
        "161c7935d4854077ad9292e9e2ec1279": {
          "model_module": "@jupyter-widgets/controls",
          "model_module_version": "1.5.0",
          "model_name": "FloatProgressModel",
          "state": {
            "_dom_classes": [],
            "_model_module": "@jupyter-widgets/controls",
            "_model_module_version": "1.5.0",
            "_model_name": "FloatProgressModel",
            "_view_count": null,
            "_view_module": "@jupyter-widgets/controls",
            "_view_module_version": "1.5.0",
            "_view_name": "ProgressView",
            "bar_style": "success",
            "description": "",
            "description_tooltip": null,
            "layout": "IPY_MODEL_1e862c55ee124adcb5c5268a56c5e37e",
            "max": 5,
            "min": 0,
            "orientation": "horizontal",
            "style": "IPY_MODEL_accc4b7b05d64a66b7b8fe7652b79f21",
            "value": 5
          }
        },
        "1e862c55ee124adcb5c5268a56c5e37e": {
          "model_module": "@jupyter-widgets/base",
          "model_module_version": "1.2.0",
          "model_name": "LayoutModel",
          "state": {
            "_model_module": "@jupyter-widgets/base",
            "_model_module_version": "1.2.0",
            "_model_name": "LayoutModel",
            "_view_count": null,
            "_view_module": "@jupyter-widgets/base",
            "_view_module_version": "1.2.0",
            "_view_name": "LayoutView",
            "align_content": null,
            "align_items": null,
            "align_self": null,
            "border": null,
            "bottom": null,
            "display": null,
            "flex": null,
            "flex_flow": null,
            "grid_area": null,
            "grid_auto_columns": null,
            "grid_auto_flow": null,
            "grid_auto_rows": null,
            "grid_column": null,
            "grid_gap": null,
            "grid_row": null,
            "grid_template_areas": null,
            "grid_template_columns": null,
            "grid_template_rows": null,
            "height": null,
            "justify_content": null,
            "justify_items": null,
            "left": null,
            "margin": null,
            "max_height": null,
            "max_width": null,
            "min_height": null,
            "min_width": null,
            "object_fit": null,
            "object_position": null,
            "order": null,
            "overflow": null,
            "overflow_x": null,
            "overflow_y": null,
            "padding": null,
            "right": null,
            "top": null,
            "visibility": null,
            "width": null
          }
        },
        "1f4694a6cbbb4f2ca1e3ffa3afdcbc17": {
          "model_module": "@jupyter-widgets/base",
          "model_module_version": "1.2.0",
          "model_name": "LayoutModel",
          "state": {
            "_model_module": "@jupyter-widgets/base",
            "_model_module_version": "1.2.0",
            "_model_name": "LayoutModel",
            "_view_count": null,
            "_view_module": "@jupyter-widgets/base",
            "_view_module_version": "1.2.0",
            "_view_name": "LayoutView",
            "align_content": null,
            "align_items": null,
            "align_self": null,
            "border": null,
            "bottom": null,
            "display": null,
            "flex": null,
            "flex_flow": null,
            "grid_area": null,
            "grid_auto_columns": null,
            "grid_auto_flow": null,
            "grid_auto_rows": null,
            "grid_column": null,
            "grid_gap": null,
            "grid_row": null,
            "grid_template_areas": null,
            "grid_template_columns": null,
            "grid_template_rows": null,
            "height": null,
            "justify_content": null,
            "justify_items": null,
            "left": null,
            "margin": null,
            "max_height": null,
            "max_width": null,
            "min_height": null,
            "min_width": null,
            "object_fit": null,
            "object_position": null,
            "order": null,
            "overflow": null,
            "overflow_x": null,
            "overflow_y": null,
            "padding": null,
            "right": null,
            "top": null,
            "visibility": null,
            "width": null
          }
        },
        "411a90b1abbe41248218fa4e24058f69": {
          "model_module": "@jupyter-widgets/base",
          "model_module_version": "1.2.0",
          "model_name": "LayoutModel",
          "state": {
            "_model_module": "@jupyter-widgets/base",
            "_model_module_version": "1.2.0",
            "_model_name": "LayoutModel",
            "_view_count": null,
            "_view_module": "@jupyter-widgets/base",
            "_view_module_version": "1.2.0",
            "_view_name": "LayoutView",
            "align_content": null,
            "align_items": null,
            "align_self": null,
            "border": null,
            "bottom": null,
            "display": null,
            "flex": null,
            "flex_flow": null,
            "grid_area": null,
            "grid_auto_columns": null,
            "grid_auto_flow": null,
            "grid_auto_rows": null,
            "grid_column": null,
            "grid_gap": null,
            "grid_row": null,
            "grid_template_areas": null,
            "grid_template_columns": null,
            "grid_template_rows": null,
            "height": null,
            "justify_content": null,
            "justify_items": null,
            "left": null,
            "margin": null,
            "max_height": null,
            "max_width": null,
            "min_height": null,
            "min_width": null,
            "object_fit": null,
            "object_position": null,
            "order": null,
            "overflow": null,
            "overflow_x": null,
            "overflow_y": null,
            "padding": null,
            "right": null,
            "top": null,
            "visibility": null,
            "width": null
          }
        },
        "4421a17644bc4e6baa6e0a1c246aa2cf": {
          "model_module": "@jupyter-widgets/base",
          "model_module_version": "1.2.0",
          "model_name": "LayoutModel",
          "state": {
            "_model_module": "@jupyter-widgets/base",
            "_model_module_version": "1.2.0",
            "_model_name": "LayoutModel",
            "_view_count": null,
            "_view_module": "@jupyter-widgets/base",
            "_view_module_version": "1.2.0",
            "_view_name": "LayoutView",
            "align_content": null,
            "align_items": null,
            "align_self": null,
            "border": null,
            "bottom": null,
            "display": null,
            "flex": null,
            "flex_flow": null,
            "grid_area": null,
            "grid_auto_columns": null,
            "grid_auto_flow": null,
            "grid_auto_rows": null,
            "grid_column": null,
            "grid_gap": null,
            "grid_row": null,
            "grid_template_areas": null,
            "grid_template_columns": null,
            "grid_template_rows": null,
            "height": null,
            "justify_content": null,
            "justify_items": null,
            "left": null,
            "margin": null,
            "max_height": null,
            "max_width": null,
            "min_height": null,
            "min_width": null,
            "object_fit": null,
            "object_position": null,
            "order": null,
            "overflow": null,
            "overflow_x": null,
            "overflow_y": null,
            "padding": null,
            "right": null,
            "top": null,
            "visibility": null,
            "width": null
          }
        },
        "4b9696ef699c46a4aefce756ba64d61b": {
          "model_module": "@jupyter-widgets/controls",
          "model_module_version": "1.5.0",
          "model_name": "HTMLModel",
          "state": {
            "_dom_classes": [],
            "_model_module": "@jupyter-widgets/controls",
            "_model_module_version": "1.5.0",
            "_model_name": "HTMLModel",
            "_view_count": null,
            "_view_module": "@jupyter-widgets/controls",
            "_view_module_version": "1.5.0",
            "_view_name": "HTMLView",
            "description": "",
            "description_tooltip": null,
            "layout": "IPY_MODEL_1f4694a6cbbb4f2ca1e3ffa3afdcbc17",
            "placeholder": "​",
            "style": "IPY_MODEL_54ace692885a46b0a4e0c8e081417229",
            "value": " 5/5 [00:00&lt;00:00, 93.94it/s]"
          }
        },
        "4c925e41e49b4bd6b6762dc81059f7a9": {
          "model_module": "@jupyter-widgets/controls",
          "model_module_version": "1.5.0",
          "model_name": "DescriptionStyleModel",
          "state": {
            "_model_module": "@jupyter-widgets/controls",
            "_model_module_version": "1.5.0",
            "_model_name": "DescriptionStyleModel",
            "_view_count": null,
            "_view_module": "@jupyter-widgets/base",
            "_view_module_version": "1.2.0",
            "_view_name": "StyleView",
            "description_width": ""
          }
        },
        "54ace692885a46b0a4e0c8e081417229": {
          "model_module": "@jupyter-widgets/controls",
          "model_module_version": "1.5.0",
          "model_name": "DescriptionStyleModel",
          "state": {
            "_model_module": "@jupyter-widgets/controls",
            "_model_module_version": "1.5.0",
            "_model_name": "DescriptionStyleModel",
            "_view_count": null,
            "_view_module": "@jupyter-widgets/base",
            "_view_module_version": "1.2.0",
            "_view_name": "StyleView",
            "description_width": ""
          }
        },
        "56813987a9ff4f5397d75b027a6693ed": {
          "model_module": "@jupyter-widgets/base",
          "model_module_version": "1.2.0",
          "model_name": "LayoutModel",
          "state": {
            "_model_module": "@jupyter-widgets/base",
            "_model_module_version": "1.2.0",
            "_model_name": "LayoutModel",
            "_view_count": null,
            "_view_module": "@jupyter-widgets/base",
            "_view_module_version": "1.2.0",
            "_view_name": "LayoutView",
            "align_content": null,
            "align_items": null,
            "align_self": null,
            "border": null,
            "bottom": null,
            "display": null,
            "flex": null,
            "flex_flow": null,
            "grid_area": null,
            "grid_auto_columns": null,
            "grid_auto_flow": null,
            "grid_auto_rows": null,
            "grid_column": null,
            "grid_gap": null,
            "grid_row": null,
            "grid_template_areas": null,
            "grid_template_columns": null,
            "grid_template_rows": null,
            "height": null,
            "justify_content": null,
            "justify_items": null,
            "left": null,
            "margin": null,
            "max_height": null,
            "max_width": null,
            "min_height": null,
            "min_width": null,
            "object_fit": null,
            "object_position": null,
            "order": null,
            "overflow": null,
            "overflow_x": null,
            "overflow_y": null,
            "padding": null,
            "right": null,
            "top": null,
            "visibility": null,
            "width": null
          }
        },
        "5995173ff9a247b9a8d68f92d5205f19": {
          "model_module": "@jupyter-widgets/controls",
          "model_module_version": "1.5.0",
          "model_name": "HBoxModel",
          "state": {
            "_dom_classes": [],
            "_model_module": "@jupyter-widgets/controls",
            "_model_module_version": "1.5.0",
            "_model_name": "HBoxModel",
            "_view_count": null,
            "_view_module": "@jupyter-widgets/controls",
            "_view_module_version": "1.5.0",
            "_view_name": "HBoxView",
            "box_style": "",
            "children": [
              "IPY_MODEL_da0dfb1fb80b4c90872ebfa452729cb5",
              "IPY_MODEL_87850e2da76c4af58949c96c034dde2d",
              "IPY_MODEL_f83c630b5ddf4ab7ad0d5c0f63706c9f"
            ],
            "layout": "IPY_MODEL_0c1793a3fd924225a503ec1ed8e36d36"
          }
        },
        "5d04e84cb0a346dd98e8028ebcf95c6e": {
          "model_module": "@jupyter-widgets/controls",
          "model_module_version": "1.5.0",
          "model_name": "HTMLModel",
          "state": {
            "_dom_classes": [],
            "_model_module": "@jupyter-widgets/controls",
            "_model_module_version": "1.5.0",
            "_model_name": "HTMLModel",
            "_view_count": null,
            "_view_module": "@jupyter-widgets/controls",
            "_view_module_version": "1.5.0",
            "_view_name": "HTMLView",
            "description": "",
            "description_tooltip": null,
            "layout": "IPY_MODEL_411a90b1abbe41248218fa4e24058f69",
            "placeholder": "​",
            "style": "IPY_MODEL_0c058c78e1e44c60be3ef50f1ad70712",
            "value": "Fetching 5 files: 100%"
          }
        },
        "7e3dd20df5cf47b2b578aac295790ce0": {
          "model_module": "@jupyter-widgets/controls",
          "model_module_version": "1.5.0",
          "model_name": "ProgressStyleModel",
          "state": {
            "_model_module": "@jupyter-widgets/controls",
            "_model_module_version": "1.5.0",
            "_model_name": "ProgressStyleModel",
            "_view_count": null,
            "_view_module": "@jupyter-widgets/base",
            "_view_module_version": "1.2.0",
            "_view_name": "StyleView",
            "bar_color": null,
            "description_width": ""
          }
        },
        "7efc69c1a4214c0bbe399a6fd79cac61": {
          "model_module": "@jupyter-widgets/base",
          "model_module_version": "1.2.0",
          "model_name": "LayoutModel",
          "state": {
            "_model_module": "@jupyter-widgets/base",
            "_model_module_version": "1.2.0",
            "_model_name": "LayoutModel",
            "_view_count": null,
            "_view_module": "@jupyter-widgets/base",
            "_view_module_version": "1.2.0",
            "_view_name": "LayoutView",
            "align_content": null,
            "align_items": null,
            "align_self": null,
            "border": null,
            "bottom": null,
            "display": null,
            "flex": null,
            "flex_flow": null,
            "grid_area": null,
            "grid_auto_columns": null,
            "grid_auto_flow": null,
            "grid_auto_rows": null,
            "grid_column": null,
            "grid_gap": null,
            "grid_row": null,
            "grid_template_areas": null,
            "grid_template_columns": null,
            "grid_template_rows": null,
            "height": null,
            "justify_content": null,
            "justify_items": null,
            "left": null,
            "margin": null,
            "max_height": null,
            "max_width": null,
            "min_height": null,
            "min_width": null,
            "object_fit": null,
            "object_position": null,
            "order": null,
            "overflow": null,
            "overflow_x": null,
            "overflow_y": null,
            "padding": null,
            "right": null,
            "top": null,
            "visibility": null,
            "width": null
          }
        },
        "87850e2da76c4af58949c96c034dde2d": {
          "model_module": "@jupyter-widgets/controls",
          "model_module_version": "1.5.0",
          "model_name": "FloatProgressModel",
          "state": {
            "_dom_classes": [],
            "_model_module": "@jupyter-widgets/controls",
            "_model_module_version": "1.5.0",
            "_model_name": "FloatProgressModel",
            "_view_count": null,
            "_view_module": "@jupyter-widgets/controls",
            "_view_module_version": "1.5.0",
            "_view_name": "ProgressView",
            "bar_style": "success",
            "description": "",
            "description_tooltip": null,
            "layout": "IPY_MODEL_56813987a9ff4f5397d75b027a6693ed",
            "max": 3,
            "min": 0,
            "orientation": "horizontal",
            "style": "IPY_MODEL_7e3dd20df5cf47b2b578aac295790ce0",
            "value": 3
          }
        },
        "9c957c2bf0724d6fab30d733c2cf17e0": {
          "model_module": "@jupyter-widgets/controls",
          "model_module_version": "1.5.0",
          "model_name": "DescriptionStyleModel",
          "state": {
            "_model_module": "@jupyter-widgets/controls",
            "_model_module_version": "1.5.0",
            "_model_name": "DescriptionStyleModel",
            "_view_count": null,
            "_view_module": "@jupyter-widgets/base",
            "_view_module_version": "1.2.0",
            "_view_name": "StyleView",
            "description_width": ""
          }
        },
        "a614636be04d4063a7b1a402b56c83e3": {
          "model_module": "@jupyter-widgets/controls",
          "model_module_version": "1.5.0",
          "model_name": "HBoxModel",
          "state": {
            "_dom_classes": [],
            "_model_module": "@jupyter-widgets/controls",
            "_model_module_version": "1.5.0",
            "_model_name": "HBoxModel",
            "_view_count": null,
            "_view_module": "@jupyter-widgets/controls",
            "_view_module_version": "1.5.0",
            "_view_name": "HBoxView",
            "box_style": "",
            "children": [
              "IPY_MODEL_5d04e84cb0a346dd98e8028ebcf95c6e",
              "IPY_MODEL_161c7935d4854077ad9292e9e2ec1279",
              "IPY_MODEL_4b9696ef699c46a4aefce756ba64d61b"
            ],
            "layout": "IPY_MODEL_c9dd792f85204a2d9397c9fa6895c12e"
          }
        },
        "accc4b7b05d64a66b7b8fe7652b79f21": {
          "model_module": "@jupyter-widgets/controls",
          "model_module_version": "1.5.0",
          "model_name": "ProgressStyleModel",
          "state": {
            "_model_module": "@jupyter-widgets/controls",
            "_model_module_version": "1.5.0",
            "_model_name": "ProgressStyleModel",
            "_view_count": null,
            "_view_module": "@jupyter-widgets/base",
            "_view_module_version": "1.2.0",
            "_view_name": "StyleView",
            "bar_color": null,
            "description_width": ""
          }
        },
        "c9dd792f85204a2d9397c9fa6895c12e": {
          "model_module": "@jupyter-widgets/base",
          "model_module_version": "1.2.0",
          "model_name": "LayoutModel",
          "state": {
            "_model_module": "@jupyter-widgets/base",
            "_model_module_version": "1.2.0",
            "_model_name": "LayoutModel",
            "_view_count": null,
            "_view_module": "@jupyter-widgets/base",
            "_view_module_version": "1.2.0",
            "_view_name": "LayoutView",
            "align_content": null,
            "align_items": null,
            "align_self": null,
            "border": null,
            "bottom": null,
            "display": null,
            "flex": null,
            "flex_flow": null,
            "grid_area": null,
            "grid_auto_columns": null,
            "grid_auto_flow": null,
            "grid_auto_rows": null,
            "grid_column": null,
            "grid_gap": null,
            "grid_row": null,
            "grid_template_areas": null,
            "grid_template_columns": null,
            "grid_template_rows": null,
            "height": null,
            "justify_content": null,
            "justify_items": null,
            "left": null,
            "margin": null,
            "max_height": null,
            "max_width": null,
            "min_height": null,
            "min_width": null,
            "object_fit": null,
            "object_position": null,
            "order": null,
            "overflow": null,
            "overflow_x": null,
            "overflow_y": null,
            "padding": null,
            "right": null,
            "top": null,
            "visibility": null,
            "width": null
          }
        },
        "da0dfb1fb80b4c90872ebfa452729cb5": {
          "model_module": "@jupyter-widgets/controls",
          "model_module_version": "1.5.0",
          "model_name": "HTMLModel",
          "state": {
            "_dom_classes": [],
            "_model_module": "@jupyter-widgets/controls",
            "_model_module_version": "1.5.0",
            "_model_name": "HTMLModel",
            "_view_count": null,
            "_view_module": "@jupyter-widgets/controls",
            "_view_module_version": "1.5.0",
            "_view_name": "HTMLView",
            "description": "",
            "description_tooltip": null,
            "layout": "IPY_MODEL_7efc69c1a4214c0bbe399a6fd79cac61",
            "placeholder": "​",
            "style": "IPY_MODEL_9c957c2bf0724d6fab30d733c2cf17e0",
            "value": "Fetching 3 files: 100%"
          }
        },
        "f83c630b5ddf4ab7ad0d5c0f63706c9f": {
          "model_module": "@jupyter-widgets/controls",
          "model_module_version": "1.5.0",
          "model_name": "HTMLModel",
          "state": {
            "_dom_classes": [],
            "_model_module": "@jupyter-widgets/controls",
            "_model_module_version": "1.5.0",
            "_model_name": "HTMLModel",
            "_view_count": null,
            "_view_module": "@jupyter-widgets/controls",
            "_view_module_version": "1.5.0",
            "_view_name": "HTMLView",
            "description": "",
            "description_tooltip": null,
            "layout": "IPY_MODEL_4421a17644bc4e6baa6e0a1c246aa2cf",
            "placeholder": "​",
            "style": "IPY_MODEL_4c925e41e49b4bd6b6762dc81059f7a9",
            "value": " 3/3 [00:00&lt;00:00, 46.61it/s]"
          }
        }
      }
    }
  },
  "nbformat": 4,
  "nbformat_minor": 0
}
